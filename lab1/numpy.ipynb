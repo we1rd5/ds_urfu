{
 "cells": [
  {
   "cell_type": "markdown",
   "metadata": {
    "id": "vC84e9kzyxPy"
   },
   "source": [
    "<h1>Импорт библиотек"
   ]
  },
  {
   "cell_type": "code",
   "execution_count": 6,
   "metadata": {
    "id": "cgKeNegmQG5S"
   },
   "outputs": [],
   "source": [
    "import numpy as np\n",
    "import matplotlib.pyplot as plt\n",
    "import unittest\n",
    "from matplotlib.patches import Rectangle, Ellipse"
   ]
  },
  {
   "cell_type": "markdown",
   "metadata": {
    "id": "qFM9uVU2x4Ls"
   },
   "source": [
    "<h1>Задача 1. Дан набор из $p$ матриц размерностью $(n, n)$ и $p$ векторов размерностью $(n, 1)$, найти сумму произведений матриц на векторы. Написать тесты для кода"
   ]
  },
  {
   "cell_type": "code",
   "execution_count": null,
   "metadata": {
    "id": "IAbUvEiYyWFF"
   },
   "outputs": [],
   "source": [
    "def sum_prod(X, V):\n",
    "    '''\n",
    "    X - матрицы (n, n)\n",
    "    V - векторы (n, 1)\n",
    "    Гарантируется, что len(X) == len(V)\n",
    "    '''\n",
    "    # Your code goes here\n",
    "    pass"
   ]
  },
  {
   "cell_type": "markdown",
   "metadata": {
    "id": "TKwPG4fIy2w4"
   },
   "source": [
    "<h1>Задача 2. Дана матрица M, напишите функцию, которая бинаризует матрицу по некоторому threshold (то есть, все значения большие threshold становятся равными 1, иначе 0). Напишите тесты для кода"
   ]
  },
  {
   "cell_type": "code",
   "execution_count": 1,
   "metadata": {
    "id": "KQDNMgsjRNH7"
   },
   "outputs": [],
   "source": [
    "def binarize(M, threshold=0.5):\n",
    "    # Your code goes here\n",
    "    return np.where(M>=threshold, 1, 0)"
   ]
  },
  {
   "cell_type": "code",
   "execution_count": 4,
   "metadata": {},
   "outputs": [
    {
     "name": "stderr",
     "output_type": "stream",
     "text": [
      "test_binarize_one_arg (__main__.TestBinarize.test_binarize_one_arg) ... ok\n",
      "test_binarize_two_args (__main__.TestBinarize.test_binarize_two_args) ... ok\n",
      "\n",
      "----------------------------------------------------------------------\n",
      "Ran 2 tests in 0.008s\n",
      "\n",
      "OK\n"
     ]
    },
    {
     "data": {
      "text/plain": [
       "<unittest.main.TestProgram at 0x2683d6c7c10>"
      ]
     },
     "execution_count": 4,
     "metadata": {},
     "output_type": "execute_result"
    }
   ],
   "source": [
    "X = np.arange(0, 9)\n",
    "\n",
    "class TestBinarize(unittest.TestCase):\n",
    "\n",
    "    def test_binarize_one_arg(self):\n",
    "        self.assertTrue(np.array_equal(binarize(X), np.array([0, 1, 1, 1, 1, 1, 1, 1, 1])))\n",
    "\n",
    "\n",
    "    def test_binarize_two_args(self):\n",
    "        self.assertTrue(np.array_equal(binarize(X, 5), np.array([0, 0, 0, 0, 0, 1, 1, 1, 1])))\n",
    "\n",
    "\n",
    "unittest.main(argv=[''], verbosity=2, exit=False)"
   ]
  },
  {
   "cell_type": "markdown",
   "metadata": {
    "id": "IY5L-h-7zWhN"
   },
   "source": [
    "<h1>Задача 3. Напишите функцию, которая возвращает уникальные элементы из каждой строки матрицы. Напишите такую же функцию, но для столбцов. Напишите тесты для кода"
   ]
  },
  {
   "cell_type": "code",
   "execution_count": 7,
   "metadata": {
    "id": "-8dEZhR0SBC-"
   },
   "outputs": [],
   "source": [
    "def unique_rows(mat):\n",
    "    v_shape, h_shape = mat.shape\n",
    "    result = []\n",
    "    for i in range(v_shape):\n",
    "        unique = []\n",
    "        for j in range(h_shape):\n",
    "            if mat[i,j] not in unique:\n",
    "                unique.append(mat[i,j])\n",
    "        result.append(unique)\n",
    "    return result\n",
    "    \n",
    "def unique_columns(mat):\n",
    "    v_shape, h_shape = mat.shape\n",
    "    result = []\n",
    "    for i in range(h_shape):\n",
    "        unique = []\n",
    "        for j in range(v_shape):\n",
    "            if mat[j,i] not in unique:\n",
    "                unique.append(mat[j,i])\n",
    "        result.append(unique)\n",
    "    return result"
   ]
  },
  {
   "cell_type": "code",
   "execution_count": 5,
   "metadata": {},
   "outputs": [
    {
     "name": "stderr",
     "output_type": "stream",
     "text": [
      "test_binarize_one_arg (__main__.TestBinarize.test_binarize_one_arg) ... ok\n",
      "test_binarize_two_args (__main__.TestBinarize.test_binarize_two_args) ... ok\n",
      "test_no_unique_columns (__main__.TestUnique.test_no_unique_columns) ... ERROR\n",
      "test_no_unique_rows (__main__.TestUnique.test_no_unique_rows) ... ERROR\n",
      "test_unique_columns (__main__.TestUnique.test_unique_columns) ... ERROR\n",
      "test_unique_rows (__main__.TestUnique.test_unique_rows) ... ERROR\n",
      "\n",
      "======================================================================\n",
      "ERROR: test_no_unique_columns (__main__.TestUnique.test_no_unique_columns)\n",
      "----------------------------------------------------------------------\n",
      "Traceback (most recent call last):\n",
      "  File \"C:\\Users\\npavl\\AppData\\Local\\Temp\\ipykernel_14916\\2796002689.py\", line 9, in test_no_unique_columns\n",
      "    self.assertEqual(unique_columns(X), [[1, 4, 7], [2, 5, 8], [3, 6, 9]])\n",
      "                     ^^^^^^^^^^^^^^\n",
      "NameError: name 'unique_columns' is not defined\n",
      "\n",
      "======================================================================\n",
      "ERROR: test_no_unique_rows (__main__.TestUnique.test_no_unique_rows)\n",
      "----------------------------------------------------------------------\n",
      "Traceback (most recent call last):\n",
      "  File \"C:\\Users\\npavl\\AppData\\Local\\Temp\\ipykernel_14916\\2796002689.py\", line 5, in test_no_unique_rows\n",
      "    self.assertEqual(unique_rows(X), [[1, 2, 3], [4, 5, 6], [7, 8, 9]])\n",
      "                     ^^^^^^^^^^^\n",
      "NameError: name 'unique_rows' is not defined\n",
      "\n",
      "======================================================================\n",
      "ERROR: test_unique_columns (__main__.TestUnique.test_unique_columns)\n",
      "----------------------------------------------------------------------\n",
      "Traceback (most recent call last):\n",
      "  File \"C:\\Users\\npavl\\AppData\\Local\\Temp\\ipykernel_14916\\2796002689.py\", line 17, in test_unique_columns\n",
      "    self.assertEqual(unique_columns(X), [[1, 7], [2, 5, 8], [3, 6]])\n",
      "                     ^^^^^^^^^^^^^^\n",
      "NameError: name 'unique_columns' is not defined\n",
      "\n",
      "======================================================================\n",
      "ERROR: test_unique_rows (__main__.TestUnique.test_unique_rows)\n",
      "----------------------------------------------------------------------\n",
      "Traceback (most recent call last):\n",
      "  File \"C:\\Users\\npavl\\AppData\\Local\\Temp\\ipykernel_14916\\2796002689.py\", line 13, in test_unique_rows\n",
      "    self.assertEqual(unique_rows(X), [[1, 2], [4, 5, 6], [7, 9]])\n",
      "                     ^^^^^^^^^^^\n",
      "NameError: name 'unique_rows' is not defined\n",
      "\n",
      "----------------------------------------------------------------------\n",
      "Ran 6 tests in 0.020s\n",
      "\n",
      "FAILED (errors=4)\n"
     ]
    },
    {
     "data": {
      "text/plain": [
       "<unittest.main.TestProgram at 0x2683d6e3f50>"
      ]
     },
     "execution_count": 5,
     "metadata": {},
     "output_type": "execute_result"
    }
   ],
   "source": [
    "class TestUnique(unittest.TestCase):\n",
    "\n",
    "    def test_no_unique_rows(self):\n",
    "        X = np.vstack([[1, 2, 3], [4, 5, 6], [7, 8, 9]])\n",
    "        self.assertEqual(unique_rows(X), [[1, 2, 3], [4, 5, 6], [7, 8, 9]])\n",
    "\n",
    "    def test_no_unique_columns(self):\n",
    "        X = np.vstack([[1, 2, 3], [4, 5, 6], [7, 8, 9]])\n",
    "        self.assertEqual(unique_columns(X), [[1, 4, 7], [2, 5, 8], [3, 6, 9]])\n",
    "\n",
    "    def test_unique_rows(self):\n",
    "        X = np.vstack([[1, 2, 2], [4, 5, 6], [7, 9, 9]])\n",
    "        self.assertEqual(unique_rows(X), [[1, 2], [4, 5, 6], [7, 9]])\n",
    "\n",
    "    def test_unique_columns(self):\n",
    "        X = np.vstack([[1, 2, 3], [1, 5, 6], [7, 8, 6]])\n",
    "        self.assertEqual(unique_columns(X), [[1, 7], [2, 5, 8], [3, 6]])\n",
    "\n",
    "\n",
    "unittest.main(argv=[''], verbosity=2, exit=False)"
   ]
  },
  {
   "cell_type": "markdown",
   "metadata": {
    "id": "roYAlo4Jz-lH"
   },
   "source": [
    "<h1>Задача 4. Напишите функцию, которая заполняет матрицу с размерами $(m, n)$ случайными числами, распределенными по нормальному закону. Затем считает мат. ожидание и дисперсию для каждого из столбцов и строк, а также строит для каждой строки и столбца гистограмму значений (использовать функцию hist из модуля matplotlib.plot)"
   ]
  },
  {
   "cell_type": "code",
   "execution_count": 41,
   "metadata": {
    "id": "nZK_71hMSQzv"
   },
   "outputs": [],
   "source": [
    "def generate_normal_matrix(m, n):\n",
    "    X = np.random.normal(size=(m, n))\n",
    "    means_rows = X.mean(axis=0)\n",
    "    disp_rows = X.var(axis=0)\n",
    "    means_cols = X.mean(axis=1)\n",
    "    disp_cols = X.var(axis=1)\n",
    "    plt.hist(means_rows, alpha=0.5)\n",
    "    plt.hist(disp_rows, alpha=0.5)\n",
    "    plt.legend((\"M по строкам\", \"D по строкам\"))\n",
    "    plt.show()\n",
    "    plt.hist(means_cols, alpha=0.5)\n",
    "    plt.hist(disp_cols, alpha=0.5)\n",
    "    plt.legend((\"M по столбцам\", \"D по столбцам\"))\n",
    "    plt.show()\n",
    "    return means_rows, disp_rows, means_cols, disp_cols"
   ]
  },
  {
   "cell_type": "code",
   "execution_count": 42,
   "metadata": {},
   "outputs": [
    {
     "data": {
      "image/png": "[encoded data removed]",
      "text/plain": [
       "<Figure size 640x480 with 1 Axes>"
      ]
     },
     "metadata": {},
     "output_type": "display_data"
    },
    {
     "data": {
      "image/png": "[encoded data removed]",
      "text/plain": [
       "<Figure size 640x480 with 1 Axes>"
      ]
     },
     "metadata": {},
     "output_type": "display_data"
    },
    {
     "data": {
      "text/plain": [
       "(array([ 0.67844875,  0.0920899 ,  0.24050156, -0.24471628, -0.97760082]),\n",
       " array([0.29458311, 0.42467129, 0.93308816, 0.21465333, 0.12401103]),\n",
       " array([-0.09115666,  0.13913508, -0.31921882, -0.37086932,  0.43083282]),\n",
       " array([0.55112046, 0.25982368, 0.77315855, 0.52585454, 0.97052365]))"
      ]
     },
     "execution_count": 42,
     "metadata": {},
     "output_type": "execute_result"
    }
   ],
   "source": [
    "generate_normal_matrix(5, 5)"
   ]
  },
  {
   "cell_type": "markdown",
   "metadata": {
    "id": "BDyATNdM0dJ2"
   },
   "source": [
    "<h1>Задача 5. Напишите функцию, которая заполняет матрицу $(m, n)$ в шахматном порядке заданными числами $a$ и $b$. Напишите тесты для кода"
   ]
  },
  {
   "cell_type": "code",
   "execution_count": 46,
   "metadata": {
    "id": "RWNJYWQGecS6"
   },
   "outputs": [],
   "source": [
    "def chess(m, n, a, b):\n",
    "    X = np.zeros((m, n))\n",
    "    for i in range(m):\n",
    "        for j in range(n):\n",
    "            X[i, j] = a if (i + j) % 2 == 0 else b\n",
    "    return X"
   ]
  },
  {
   "cell_type": "code",
   "execution_count": 52,
   "metadata": {},
   "outputs": [
    {
     "name": "stderr",
     "output_type": "stream",
     "text": [
      "test_even_shape (__main__.TestChess.test_even_shape) ... ok\n",
      "test_odd_shape (__main__.TestChess.test_odd_shape) ... ok\n",
      "test_no_unique_columns (__main__.TestUnique.test_no_unique_columns) ... ok\n",
      "test_no_unique_rows (__main__.TestUnique.test_no_unique_rows) ... ok\n",
      "test_unique_columns (__main__.TestUnique.test_unique_columns) ... ok\n",
      "test_unique_rows (__main__.TestUnique.test_unique_rows) ... ok\n",
      "\n",
      "----------------------------------------------------------------------\n",
      "Ran 6 tests in 0.009s\n",
      "\n",
      "OK\n"
     ]
    },
    {
     "data": {
      "text/plain": [
       "<unittest.main.TestProgram at 0x28f331b7350>"
      ]
     },
     "execution_count": 52,
     "metadata": {},
     "output_type": "execute_result"
    }
   ],
   "source": [
    "class TestChess(unittest.TestCase):\n",
    "\n",
    "    def test_odd_shape(self):\n",
    "        X = np.vstack([[1, 2, 1], [2, 1, 2], [1, 2, 1]])\n",
    "        self.assertTrue(np.array_equal(chess(3, 3, 1, 2), X))\n",
    "\n",
    "    def test_even_shape(self):\n",
    "        X = np.vstack([[1, 2, 1, 2], [2, 1, 2, 1], [1, 2, 1, 2], [2, 1, 2, 1]])\n",
    "        self.assertTrue(np.array_equal(chess(4, 4, 1, 2), X))\n",
    "\n",
    "\n",
    "unittest.main(argv=[''], verbosity=2, exit=False)"
   ]
  },
  {
   "cell_type": "markdown",
   "metadata": {
    "id": "-ymXLtTN0vB6"
   },
   "source": [
    "<h1>Задача 6. Напишите функцию, которая отрисовывает прямоугольник с заданными размерами (a, b) на изображении размера (m, n), цвет фона задайте в схеме RGB, как и цвет прямоугольника. Цвета также должны быть параметрами функции. Напишите аналогичную функцию но для овала с полуосями a и b. Напишите тесты для кода.\n",
    "Примечание: уравнение эллипса (границы овала) можно записать как:\n",
    "<h1>$\\frac{(x-x_0)^2}{a^2}+\\frac{(y-y_0)^2}{b^2}=1$"
   ]
  },
  {
   "cell_type": "code",
   "execution_count": 56,
   "metadata": {
    "id": "sNfl1t_kfOF4"
   },
   "outputs": [],
   "source": [
    "def draw_rectangle(a, b, m, n, rectangle_color, background_color):\n",
    "    background = [[background_color] * m] * n\n",
    "    plt.imshow(background)\n",
    "    plt.gca ().add_patch (Rectangle((0, 0), a, b, facecolor=list([i / 255 for i in rectangle_color])))\n",
    "    plt.show()\n",
    "    return\n",
    "def draw_ellipse(a, b, m, n, ellipse_color, background_color):\n",
    "    background = [[background_color] * m] * n\n",
    "    plt.imshow(background)\n",
    "    plt.gca ().add_patch (Ellipse((m / 2, n / 2), a, b, facecolor=list([i / 255 for i in ellipse_color])))\n",
    "    plt.show()\n",
    "    return"
   ]
  },
  {
   "cell_type": "code",
   "execution_count": 54,
   "metadata": {},
   "outputs": [
    {
     "data": {
      "image/png": "[encoded data removed]",
      "text/plain": [
       "<Figure size 640x480 with 1 Axes>"
      ]
     },
     "metadata": {},
     "output_type": "display_data"
    }
   ],
   "source": [
    "draw_rectangle(50, 50, 100, 100, [255, 0, 255], [255, 255, 255])"
   ]
  },
  {
   "cell_type": "code",
   "execution_count": 59,
   "metadata": {},
   "outputs": [
    {
     "data": {
      "image/png": "[encoded data removed]",
      "text/plain": [
       "<Figure size 640x480 with 1 Axes>"
      ]
     },
     "metadata": {},
     "output_type": "display_data"
    }
   ],
   "source": [
    "draw_ellipse(70, 50, 100, 100, [255, 0, 255], [255, 255, 255])"
   ]
  },
  {
   "cell_type": "markdown",
   "metadata": {
    "id": "S82c38oz244H"
   },
   "source": [
    "<h1>Задача 7. Дан некий временной ряд. Для данного ряда нужно найти его: математическое ожидание, дисперсию, СКО, найти все локальные максимумы и минимумы (локальный максимум - это точка, которая больше своих соседних точек, а локальный минимум - это точка, которая меньше своих соседей), а также вычислить для данного ряда другой ряд, получаемый методом скользящего среднего с размером окна $p$.\n",
    "<h1>Примечание: метод скользящего среднего подразумевает нахождение среднего из подмножетсва ряда размером $p$"
   ]
  },
  {
   "cell_type": "code",
   "execution_count": null,
   "metadata": {
    "id": "Zb9mIVge5MMt"
   },
   "outputs": [],
   "source": [
    "# Your code goes here"
   ]
  },
  {
   "cell_type": "markdown",
   "metadata": {
    "id": "jPkylmOX5O9n"
   },
   "source": [
    "<h1> Задача 8. Дан некоторый вектор с целочисленными метками классов, напишите функцию, которая выполняет one-hot-encoding для данного вектора\n",
    "<h1> One-hot-encoding - представление, в котором на месте метки некоторого класса стоит 1, в остальных позициях стоит 0. Например для вектора [0, 2, 3, 0] one-hot-encoding выглядит как: [[1, 0, 0, 0], [0, 0, 1, 0], [0, 0, 0, 1], [1, 0, 0, 0]]"
   ]
  },
  {
   "cell_type": "code",
   "execution_count": 75,
   "metadata": {
    "id": "Y-jlnZvw56lD"
   },
   "outputs": [],
   "source": [
    "def one_hot_encode(X):\n",
    "    result = np.zeros((X.shape[0], X.max() + 1))\n",
    "    for i in range(X.shape[0]):\n",
    "        result[i, X[i]] = 1\n",
    "    return result"
   ]
  },
  {
   "cell_type": "code",
   "execution_count": 76,
   "metadata": {},
   "outputs": [
    {
     "data": {
      "text/plain": [
       "array([[0., 1., 0., 0., 0., 0., 0.],\n",
       "       [0., 0., 1., 0., 0., 0., 0.],\n",
       "       [0., 0., 0., 0., 1., 0., 0.],\n",
       "       [0., 0., 0., 1., 0., 0., 0.],\n",
       "       [0., 0., 0., 0., 0., 0., 1.]])"
      ]
     },
     "execution_count": 76,
     "metadata": {},
     "output_type": "execute_result"
    }
   ],
   "source": [
    "one_hot_encode(np.array([1, 2, 4, 3, 6]))"
   ]
  }
 ],
 "metadata": {
  "colab": {
   "provenance": []
  },
  "kernelspec": {
   "display_name": "Python 3 (ipykernel)",
   "language": "python",
   "name": "python3"
  },
  "language_info": {
   "codemirror_mode": {
    "name": "ipython",
    "version": 3
   },
   "file_extension": ".py",
   "mimetype": "text/x-python",
   "name": "python",
   "nbconvert_exporter": "python",
   "pygments_lexer": "ipython3",
   "version": "3.11.7"
  }
 },
 "nbformat": 4,
 "nbformat_minor": 4
}
