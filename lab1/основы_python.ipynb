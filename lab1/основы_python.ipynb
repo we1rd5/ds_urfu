{
 "cells": [
  {
   "cell_type": "code",
   "execution_count": 3,
   "metadata": {},
   "outputs": [],
   "source": [
    "import unittest"
   ]
  },
  {
   "cell_type": "markdown",
   "metadata": {
    "id": "M-DGa20PaHnu"
   },
   "source": [
    "# Задача 1\n",
    "Написать функцию на вход которой подается строка, состоящая из латинских букв.\n",
    "Функция должна вернуть количество гласных букв (a, e, i, o, u) в этой строке. Написать тесты для кода"
   ]
  },
  {
   "cell_type": "code",
   "execution_count": 5,
   "metadata": {
    "id": "XvX8X_JJ6PCb"
   },
   "outputs": [],
   "source": [
    "def count_vowels(s):\n",
    "    s = s.lower()\n",
    "    vowels = ['e', 'u', 'i', 'o', 'a']\n",
    "    count = 0\n",
    "    for letter in s:\n",
    "        if letter in vowels:\n",
    "            count += 1\n",
    "    return count"
   ]
  },
  {
   "cell_type": "code",
   "execution_count": 6,
   "metadata": {},
   "outputs": [
    {
     "name": "stderr",
     "output_type": "stream",
     "text": [
      "test_count_vowels (__main__.TestVowelsCount.test_count_vowels) ... ok\n",
      "\n",
      "----------------------------------------------------------------------\n",
      "Ran 1 test in 0.002s\n",
      "\n",
      "OK\n"
     ]
    },
    {
     "data": {
      "text/plain": [
       "<unittest.main.TestProgram at 0x18194afc6d0>"
      ]
     },
     "execution_count": 6,
     "metadata": {},
     "output_type": "execute_result"
    }
   ],
   "source": [
    "class TestVowelsCount(unittest.TestCase):\n",
    "\n",
    "    def test_count_vowels(self):\n",
    "        self.assertEqual(count_vowels(\"abcde\"), 2)\n",
    "        self.assertEqual(count_vowels(\"aaa\"), 3)\n",
    "        self.assertEqual(count_vowels(\"\"), 0)\n",
    "        self.assertEqual(count_vowels(\"bcd\"), 0)\n",
    "\n",
    "\n",
    "unittest.main(argv=[''], verbosity=2, exit=False)"
   ]
  },
  {
   "cell_type": "markdown",
   "metadata": {
    "id": "t2ClV_Y0bbr6"
   },
   "source": [
    "# Задача 2\n",
    "Написать функцию на вход, которой подается строка. Функция должна вернуть true, если\n",
    "каждый символ в строке встречается только 1 раз, иначе должна вернуть false. Написать тесты для кода"
   ]
  },
  {
   "cell_type": "code",
   "execution_count": 10,
   "metadata": {
    "id": "FppbECao6VIz"
   },
   "outputs": [],
   "source": [
    "def is_unique_letters(s):\n",
    "    counts = dict()\n",
    "    for letter in s:\n",
    "        if letter in counts.keys():\n",
    "            return False\n",
    "        else:\n",
    "            counts[letter] = 1\n",
    "    return True"
   ]
  },
  {
   "cell_type": "code",
   "execution_count": 12,
   "metadata": {},
   "outputs": [
    {
     "name": "stderr",
     "output_type": "stream",
     "text": [
      "test_unique_letters (__main__.TestUniqueLetters.test_unique_letters) ... ok\n",
      "test_count_vowels (__main__.TestVowelsCount.test_count_vowels) ... ok\n",
      "\n",
      "----------------------------------------------------------------------\n",
      "Ran 2 tests in 0.002s\n",
      "\n",
      "OK\n"
     ]
    },
    {
     "data": {
      "text/plain": [
       "<unittest.main.TestProgram at 0x18195781610>"
      ]
     },
     "execution_count": 12,
     "metadata": {},
     "output_type": "execute_result"
    }
   ],
   "source": [
    "class TestUniqueLetters(unittest.TestCase):\n",
    "\n",
    "    def test_unique_letters(self):\n",
    "        self.assertTrue(is_unique_letters(\"abcd\"))\n",
    "        self.assertTrue(is_unique_letters(\"\"))\n",
    "        self.assertFalse(is_unique_letters(\"aaa\"))\n",
    "        self.assertFalse(is_unique_letters(\"abcda\"))\n",
    "\n",
    "\n",
    "unittest.main(argv=[''], verbosity=2, exit=False)"
   ]
  },
  {
   "cell_type": "markdown",
   "metadata": {
    "id": "udRiIK1cdt6E"
   },
   "source": [
    "# Задача 3\n",
    "Написать функцию, которая принимает положительное число и возвращает количество\n",
    "бит равных 1 в этом числе. Написать тесты для кода"
   ]
  },
  {
   "cell_type": "code",
   "execution_count": 14,
   "metadata": {
    "id": "6tkfDJRz6dp_"
   },
   "outputs": [],
   "source": [
    "def count_bits(num):\n",
    "    count = 0\n",
    "    while num:\n",
    "        count += num & 1\n",
    "        num >>= 1\n",
    "    return count"
   ]
  },
  {
   "cell_type": "code",
   "execution_count": 22,
   "metadata": {},
   "outputs": [
    {
     "name": "stderr",
     "output_type": "stream",
     "text": [
      "test_count_bits (__main__.TestCountBits.test_count_bits) ... ok\n",
      "test_unique_letters (__main__.TestUniqueLetters.test_unique_letters) ... ok\n",
      "test_count_vowels (__main__.TestVowelsCount.test_count_vowels) ... ok\n",
      "\n",
      "----------------------------------------------------------------------\n",
      "Ran 3 tests in 0.004s\n",
      "\n",
      "OK\n"
     ]
    },
    {
     "data": {
      "text/plain": [
       "<unittest.main.TestProgram at 0x181957b8610>"
      ]
     },
     "execution_count": 22,
     "metadata": {},
     "output_type": "execute_result"
    }
   ],
   "source": [
    "class TestCountBits(unittest.TestCase):\n",
    "\n",
    "    def test_count_bits(self):\n",
    "        self.assertEqual(count_bits(6), 2)\n",
    "        self.assertEqual(count_bits(8), 1)\n",
    "        self.assertEqual(count_bits(5), 2)\n",
    "\n",
    "\n",
    "unittest.main(argv=[''], verbosity=2, exit=False)"
   ]
  },
  {
   "cell_type": "markdown",
   "metadata": {
    "id": "26dDUz-Ae17N"
   },
   "source": [
    "# Задача 4\n",
    "Написать функцию, которая принимает положительное число. Функция должна вернуть то,\n",
    "сколько раз необходимо перемножать цифры числа или результат перемножения, чтобы\n",
    "получилось число состоящее из одной цифры.\n",
    "Например, для входного числа:\n",
    "· 39 функция должна вернуть 3, так как 3*9=27 => 2*7=14 => 1*4=4\n",
    "· 4 функция должна вернуть 0, так как число уже состоит из одной цифры\n",
    "· 999 функция должна вернуть 4, так как 9*9*9=729 => 7*2*9=126 => 1*2*6=12 =>\n",
    "1*2=2. Написать тесты для кода"
   ]
  },
  {
   "cell_type": "code",
   "execution_count": 36,
   "metadata": {
    "id": "BH1A_Mgi6i4G"
   },
   "outputs": [],
   "source": [
    "def magic(n):\n",
    "    count = 0\n",
    "    new_n = 1\n",
    "    while n > 10:\n",
    "        while n > 0:\n",
    "            x = n % 10 \n",
    "            n //= 10\n",
    "            new_n *= x\n",
    "        count += 1\n",
    "        n = new_n\n",
    "        new_n = 1\n",
    "    return count"
   ]
  },
  {
   "cell_type": "code",
   "execution_count": 37,
   "metadata": {},
   "outputs": [
    {
     "name": "stderr",
     "output_type": "stream",
     "text": [
      "test_count_bits (__main__.TestCountBits.test_count_bits) ... ok\n",
      "test_count_multiplies (__main__.TestCountMultiplies.test_count_multiplies) ... ok\n",
      "test_unique_letters (__main__.TestUniqueLetters.test_unique_letters) ... ok\n",
      "test_count_vowels (__main__.TestVowelsCount.test_count_vowels) ... ok\n",
      "\n",
      "----------------------------------------------------------------------\n",
      "Ran 4 tests in 0.006s\n",
      "\n",
      "OK\n"
     ]
    },
    {
     "data": {
      "text/plain": [
       "<unittest.main.TestProgram at 0x18194af9190>"
      ]
     },
     "execution_count": 37,
     "metadata": {},
     "output_type": "execute_result"
    }
   ],
   "source": [
    "class TestCountMultiplies(unittest.TestCase):\n",
    "\n",
    "    def test_count_multiplies(self):\n",
    "        self.assertEqual(magic(39), 3)\n",
    "        self.assertEqual(magic(999), 4)\n",
    "        self.assertEqual(magic(4), 0)\n",
    "\n",
    "unittest.main(argv=[''], verbosity=2, exit=False)"
   ]
  },
  {
   "cell_type": "markdown",
   "metadata": {
    "id": "0nS-kIa8g8vd"
   },
   "source": [
    "# Задача 5\n",
    "Написать функцию, которая принимает два целочисленных вектора одинаковой длины и\n",
    "возвращает среднеквадратическое отклонение двух векторов. Написать тесты для кода"
   ]
  },
  {
   "cell_type": "code",
   "execution_count": null,
   "metadata": {
    "id": "8iphx4LM6xbx"
   },
   "outputs": [],
   "source": [
    "def mse(pred, true):\n",
    "    # Your code goes here\n",
    "    pass"
   ]
  },
  {
   "cell_type": "markdown",
   "metadata": {
    "id": "vpIPKL439zkw"
   },
   "source": [
    "# Задача 6\n",
    "Написать функцию, принимающая целое положительное число. Функция должна вернуть\n",
    "строку вида “(n1**p1)(n2**p2)…(nk**pk)” представляющая разложение числа на простые\n",
    "множители (если pi == 1, то выводить только ni).\n",
    "Например, для числа 86240 функция должна вернуть “(2**5)(5)(7**2)(11)”. Написать тесты для кода"
   ]
  },
  {
   "cell_type": "code",
   "execution_count": 40,
   "metadata": {
    "id": "pFebmcZk94Jw"
   },
   "outputs": [],
   "source": [
    "def find_prime_multipliers(n):\n",
    "    i = 2\n",
    "    multipliers = []\n",
    "    while i * i <= n:\n",
    "        if n % i:\n",
    "            i += 1\n",
    "        else:\n",
    "            n //= i\n",
    "            multipliers.append(i)\n",
    "    if n > 1:\n",
    "        multipliers.append(n)\n",
    "\n",
    "    unique_multipliers = sorted(set(multipliers))\n",
    "    result = \"\"\n",
    "    for m in unique_multipliers:\n",
    "        power = multipliers.count(m)\n",
    "        if power == 1:\n",
    "            result += f\"({m})\"\n",
    "        else:\n",
    "            result += f\"({m}**{power})\"\n",
    "    \n",
    "    return result"
   ]
  },
  {
   "cell_type": "code",
   "execution_count": 44,
   "metadata": {},
   "outputs": [
    {
     "name": "stderr",
     "output_type": "stream",
     "text": [
      "test_count_bits (__main__.TestCountBits.test_count_bits) ... ok\n",
      "test_count_multiplies (__main__.TestCountMultiplies.test_count_multiplies) ... ok\n",
      "test_prime_multiplies (__main__.TestPrimeMultipliers.test_prime_multiplies) ... ok\n",
      "test_unique_letters (__main__.TestUniqueLetters.test_unique_letters) ... ok\n",
      "test_count_vowels (__main__.TestVowelsCount.test_count_vowels) ... ok\n",
      "\n",
      "----------------------------------------------------------------------\n",
      "Ran 5 tests in 0.006s\n",
      "\n",
      "OK\n"
     ]
    },
    {
     "data": {
      "text/plain": [
       "<unittest.main.TestProgram at 0x181957f45d0>"
      ]
     },
     "execution_count": 44,
     "metadata": {},
     "output_type": "execute_result"
    }
   ],
   "source": [
    "class TestPrimeMultipliers(unittest.TestCase):\n",
    "\n",
    "    def test_prime_multiplies(self):\n",
    "        self.assertEqual(find_prime_multipliers(86240), \"(2**5)(5)(7**2)(11)\")\n",
    "        self.assertEqual(find_prime_multipliers(47), \"(47)\")\n",
    "        self.assertEqual(find_prime_multipliers(8), \"(2**3)\")\n",
    "\n",
    "unittest.main(argv=[''], verbosity=2, exit=False)"
   ]
  },
  {
   "cell_type": "markdown",
   "metadata": {
    "id": "ps2s0BudX7A2"
   },
   "source": [
    "# Задача 7\n",
    "Написать функцию, принимающая целое число n, задающее количество кубиков. Функция\n",
    "должна определить, можно ли из данного кол-ва кубиков построить пирамиду, то есть\n",
    "можно ли представить число n как 1^2+2^2+3^2+…+k^2. Если можно, то функция должна\n",
    "вернуть k, иначе строку “It is impossible”. Написать тесты для кода"
   ]
  },
  {
   "cell_type": "code",
   "execution_count": 49,
   "metadata": {
    "id": "3YPjEXxhX_YT"
   },
   "outputs": [],
   "source": [
    "def pyramid(number):\n",
    "    i = 1\n",
    "    while number > 0:\n",
    "        number -= i*i\n",
    "        i += 1\n",
    "    if number == 0:\n",
    "        return i - 1\n",
    "    else:\n",
    "        return \"It is impossible\""
   ]
  },
  {
   "cell_type": "code",
   "execution_count": 50,
   "metadata": {},
   "outputs": [
    {
     "name": "stderr",
     "output_type": "stream",
     "text": [
      "test_count_bits (__main__.TestCountBits.test_count_bits) ... ok\n",
      "test_count_multiplies (__main__.TestCountMultiplies.test_count_multiplies) ... ok\n",
      "test_prime_multiplies (__main__.TestPrimeMultipliers.test_prime_multiplies) ... ok\n",
      "test_pyramid (__main__.TestPyramid.test_pyramid) ... ok\n",
      "test_unique_letters (__main__.TestUniqueLetters.test_unique_letters) ... ok\n",
      "test_count_vowels (__main__.TestVowelsCount.test_count_vowels) ... ok\n",
      "\n",
      "----------------------------------------------------------------------\n",
      "Ran 6 tests in 0.008s\n",
      "\n",
      "OK\n"
     ]
    },
    {
     "data": {
      "text/plain": [
       "<unittest.main.TestProgram at 0x1819580eb50>"
      ]
     },
     "execution_count": 50,
     "metadata": {},
     "output_type": "execute_result"
    }
   ],
   "source": [
    "class TestPyramid(unittest.TestCase):\n",
    "\n",
    "    def test_pyramid(self):\n",
    "        self.assertEqual(pyramid(5), 2)\n",
    "        self.assertEqual(pyramid(14), 3)\n",
    "        self.assertEqual(pyramid(30), 4)\n",
    "        self.assertEqual(pyramid(20), \"It is impossible\")\n",
    "\n",
    "unittest.main(argv=[''], verbosity=2, exit=False)"
   ]
  },
  {
   "cell_type": "markdown",
   "metadata": {
    "id": "KeKgmIdAQMEJ"
   },
   "source": [
    "# Задача 8\n",
    "Функция принимает на вход положительное число и определяет является ли оно сбалансированным, т.е. сумма цифр до средних равна сумме цифр после. Средними в случае нечетного числа цифр считать одну цифру, в случае четного - две средних. Написать тесты для кода"
   ]
  },
  {
   "cell_type": "code",
   "execution_count": 51,
   "metadata": {
    "id": "gMAAqtqlQrZt"
   },
   "outputs": [],
   "source": [
    "def is_number_balanced(n):\n",
    "    n = str(n)\n",
    "    start = n[:len(n)//2 - 1 + len(n) % 2]\n",
    "    end = n[len(n)//2 + 1:]\n",
    "    print(start, end)\n",
    "    if sum(list(map(int, start))) == sum(list(map(int, end))):\n",
    "        return \"balanced\"\n",
    "    return \"not balanced\"\n"
   ]
  },
  {
   "cell_type": "code",
   "execution_count": 56,
   "metadata": {},
   "outputs": [
    {
     "name": "stderr",
     "output_type": "stream",
     "text": [
      "test_balanced (__main__.TestBalanced.test_balanced) ... ok\n",
      "test_count_bits (__main__.TestCountBits.test_count_bits) ... ok\n",
      "test_count_multiplies (__main__.TestCountMultiplies.test_count_multiplies) ... ok\n",
      "test_prime_multiplies (__main__.TestPrimeMultipliers.test_prime_multiplies) ... ok\n",
      "test_pyramid (__main__.TestPyramid.test_pyramid) ... ok\n",
      "test_unique_letters (__main__.TestUniqueLetters.test_unique_letters) ... ok\n",
      "test_count_vowels (__main__.TestVowelsCount.test_count_vowels) ... ok\n",
      "\n",
      "----------------------------------------------------------------------\n",
      "Ran 7 tests in 0.008s\n",
      "\n",
      "OK\n"
     ]
    },
    {
     "data": {
      "text/plain": [
       "<unittest.main.TestProgram at 0x18195835d50>"
      ]
     },
     "execution_count": 56,
     "metadata": {},
     "output_type": "execute_result"
    }
   ],
   "source": [
    "class TestBalanced(unittest.TestCase):\n",
    "\n",
    "    def test_balanced(self):\n",
    "        self.assertEqual(is_number_balanced(123456), \"not balanced\")\n",
    "        self.assertEqual(is_number_balanced(123403), \"balanced\")\n",
    "        self.assertEqual(is_number_balanced(1235402), \"balanced\")\n",
    "        \n",
    "unittest.main(argv=[''], verbosity=2, exit=False)"
   ]
  }
 ],
 "metadata": {
  "colab": {
   "provenance": []
  },
  "kernelspec": {
   "display_name": "Python 3 (ipykernel)",
   "language": "python",
   "name": "python3"
  },
  "language_info": {
   "codemirror_mode": {
    "name": "ipython",
    "version": 3
   },
   "file_extension": ".py",
   "mimetype": "text/x-python",
   "name": "python",
   "nbconvert_exporter": "python",
   "pygments_lexer": "ipython3",
   "version": "3.11.7"
  }
 },
 "nbformat": 4,
 "nbformat_minor": 4
}
